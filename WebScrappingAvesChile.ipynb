{
 "cells": [
  {
   "cell_type": "code",
   "execution_count": 1,
   "id": "baa4606e",
   "metadata": {},
   "outputs": [
    {
     "name": "stdout",
     "output_type": "stream",
     "text": [
      "El archivo CSV 'aves_data.csv' ha sido creado exitosamente.\n"
     ]
    }
   ],
   "source": [
    "import csv\n",
    "import requests\n",
    "\n",
    "# Obtener la data de aves desde el enlace\n",
    "response = requests.get(\"http://aves.ninjas.cl/api/birds\")\n",
    "data = response.json()\n",
    "\n",
    "# Nombre del archivo CSV\n",
    "csv_file_path = \"aves_data.csv\"\n",
    "\n",
    "# Encabezados del archivo CSV\n",
    "csv_headers = [\"uid\", \"spanish_name\", \"english_name\", \"latin_name\", \"main_image\", \n",
    "               \"full_image\", \"thumb_image\", \"self_link\", \"parent_link\", \"sort\", \"map_image\", \n",
    "               \"map_title\", \"iucn_title\", \"iucn_description\", \"habitat\", \"didyouknow\", \"migration\", \n",
    "               \"dimorphism\", \"size\", \"order\", \"species\"]\n",
    "\n",
    "# Abrir el archivo CSV en modo de escritura con codificación utf-8\n",
    "with open(csv_file_path, mode='w', newline='', encoding='utf-8') as csv_file:\n",
    "    # Crear un escritor CSV\n",
    "    csv_writer = csv.writer(csv_file)\n",
    "\n",
    "    # Escribir los encabezados\n",
    "    csv_writer.writerow(csv_headers)\n",
    "\n",
    "    # Iterar automáticamente sobre los datos de aves y escribir cada fila en el archivo CSV\n",
    "    for bird in data:\n",
    "        uid = bird[\"uid\"]\n",
    "        spanish_name = bird[\"name\"][\"spanish\"]\n",
    "        english_name = bird[\"name\"][\"english\"]\n",
    "        latin_name = bird[\"name\"][\"latin\"]\n",
    "        main_image = bird[\"images\"][\"main\"]\n",
    "        full_image = bird[\"images\"][\"full\"]\n",
    "        thumb_image = bird[\"images\"][\"thumb\"]\n",
    "        self_link = bird[\"_links\"][\"self\"]\n",
    "        parent_link = bird[\"_links\"][\"parent\"]\n",
    "        sort = bird[\"sort\"]\n",
    "\n",
    "        # Extraer datos adicionales del enlace \"self\"\n",
    "        self_response = requests.get(self_link)\n",
    "        self_data = self_response.json()\n",
    "        map_image = self_data[\"map\"][\"image\"]\n",
    "        map_title = self_data[\"map\"][\"title\"]\n",
    "        iucn_title = self_data[\"iucn\"][\"title\"] if \"iucn\" in self_data and \"title\" in self_data[\"iucn\"] else \"\"\n",
    "        iucn_description = self_data[\"iucn\"][\"description\"] if \"iucn\" in self_data and \"description\" in self_data[\"iucn\"] else \"\"\n",
    "        habitat = self_data[\"habitat\"]\n",
    "        didyouknow = self_data[\"didyouknow\"]\n",
    "        migration = self_data[\"migration\"]\n",
    "        dimorphism = self_data[\"dimorphism\"]\n",
    "        size = self_data[\"size\"]\n",
    "        order = self_data[\"order\"]\n",
    "        species = self_data[\"species\"]\n",
    "\n",
    "        # Escribir la fila en el archivo CSV\n",
    "        csv_writer.writerow([uid, spanish_name, english_name, latin_name, \n",
    "                             main_image, full_image, thumb_image, self_link, \n",
    "                             parent_link, sort, map_image, map_title, iucn_title, \n",
    "                             iucn_description, habitat, didyouknow, migration, dimorphism, size, order, species])\n",
    "\n",
    "print(f\"El archivo CSV '{csv_file_path}' ha sido creado exitosamente.\")\n"
   ]
  }
 ],
 "metadata": {
  "kernelspec": {
   "display_name": "Python 3 (ipykernel)",
   "language": "python",
   "name": "python3"
  },
  "language_info": {
   "codemirror_mode": {
    "name": "ipython",
    "version": 3
   },
   "file_extension": ".py",
   "mimetype": "text/x-python",
   "name": "python",
   "nbconvert_exporter": "python",
   "pygments_lexer": "ipython3",
   "version": "3.9.12"
  }
 },
 "nbformat": 4,
 "nbformat_minor": 5
}
